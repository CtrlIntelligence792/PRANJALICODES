{
 "cells": [
  {
   "cell_type": "code",
   "execution_count": 1,
   "metadata": {},
   "outputs": [],
   "source": [
    "corpus=['This is sentence one','This is sentence two','This is sentence three']\n",
    "from sklearn.feature_extraction import text\n",
    "cv=text.CountVectorizer(input=corpus)\n",
    "matrix=cv.fit_transform(corpus)"
   ]
  },
  {
   "cell_type": "code",
   "execution_count": 3,
   "metadata": {},
   "outputs": [
    {
     "data": {
      "text/html": [
       "<div>\n",
       "<style scoped>\n",
       "    .dataframe tbody tr th:only-of-type {\n",
       "        vertical-align: middle;\n",
       "    }\n",
       "\n",
       "    .dataframe tbody tr th {\n",
       "        vertical-align: top;\n",
       "    }\n",
       "\n",
       "    .dataframe thead th {\n",
       "        text-align: right;\n",
       "    }\n",
       "</style>\n",
       "<table border=\"1\" class=\"dataframe\">\n",
       "  <thead>\n",
       "    <tr style=\"text-align: right;\">\n",
       "      <th></th>\n",
       "      <th>is</th>\n",
       "      <th>one</th>\n",
       "      <th>sentence</th>\n",
       "      <th>this</th>\n",
       "      <th>three</th>\n",
       "      <th>two</th>\n",
       "    </tr>\n",
       "  </thead>\n",
       "  <tbody>\n",
       "    <tr>\n",
       "      <th>0</th>\n",
       "      <td>1</td>\n",
       "      <td>1</td>\n",
       "      <td>1</td>\n",
       "      <td>1</td>\n",
       "      <td>0</td>\n",
       "      <td>0</td>\n",
       "    </tr>\n",
       "    <tr>\n",
       "      <th>1</th>\n",
       "      <td>1</td>\n",
       "      <td>0</td>\n",
       "      <td>1</td>\n",
       "      <td>1</td>\n",
       "      <td>0</td>\n",
       "      <td>1</td>\n",
       "    </tr>\n",
       "    <tr>\n",
       "      <th>2</th>\n",
       "      <td>1</td>\n",
       "      <td>0</td>\n",
       "      <td>1</td>\n",
       "      <td>1</td>\n",
       "      <td>1</td>\n",
       "      <td>0</td>\n",
       "    </tr>\n",
       "  </tbody>\n",
       "</table>\n",
       "</div>"
      ],
      "text/plain": [
       "   is  one  sentence  this  three  two\n",
       "0   1    1         1     1      0    0\n",
       "1   1    0         1     1      0    1\n",
       "2   1    0         1     1      1    0"
      ]
     },
     "execution_count": 3,
     "metadata": {},
     "output_type": "execute_result"
    }
   ],
   "source": [
    "## Don't do this on a bigger matrix, sklearn stores them in memory efficient format\n",
    "import pandas as pd\n",
    "pd.DataFrame(matrix.toarray(),columns=cv.get_feature_names())"
   ]
  },
  {
   "cell_type": "code",
   "execution_count": null,
   "metadata": {
    "collapsed": true
   },
   "outputs": [],
   "source": []
  },
  {
   "cell_type": "code",
   "execution_count": 4,
   "metadata": {},
   "outputs": [
    {
     "data": {
      "text/html": [
       "<div>\n",
       "<style scoped>\n",
       "    .dataframe tbody tr th:only-of-type {\n",
       "        vertical-align: middle;\n",
       "    }\n",
       "\n",
       "    .dataframe tbody tr th {\n",
       "        vertical-align: top;\n",
       "    }\n",
       "\n",
       "    .dataframe thead th {\n",
       "        text-align: right;\n",
       "    }\n",
       "</style>\n",
       "<table border=\"1\" class=\"dataframe\">\n",
       "  <thead>\n",
       "    <tr style=\"text-align: right;\">\n",
       "      <th></th>\n",
       "      <th>is sentence</th>\n",
       "      <th>sentence one</th>\n",
       "      <th>sentence three</th>\n",
       "      <th>sentence two</th>\n",
       "      <th>this is</th>\n",
       "    </tr>\n",
       "  </thead>\n",
       "  <tbody>\n",
       "    <tr>\n",
       "      <th>0</th>\n",
       "      <td>1</td>\n",
       "      <td>1</td>\n",
       "      <td>0</td>\n",
       "      <td>0</td>\n",
       "      <td>1</td>\n",
       "    </tr>\n",
       "    <tr>\n",
       "      <th>1</th>\n",
       "      <td>1</td>\n",
       "      <td>0</td>\n",
       "      <td>0</td>\n",
       "      <td>1</td>\n",
       "      <td>1</td>\n",
       "    </tr>\n",
       "    <tr>\n",
       "      <th>2</th>\n",
       "      <td>1</td>\n",
       "      <td>0</td>\n",
       "      <td>1</td>\n",
       "      <td>0</td>\n",
       "      <td>1</td>\n",
       "    </tr>\n",
       "  </tbody>\n",
       "</table>\n",
       "</div>"
      ],
      "text/plain": [
       "   is sentence  sentence one  sentence three  sentence two  this is\n",
       "0            1             1               0             0        1\n",
       "1            1             0               0             1        1\n",
       "2            1             0               1             0        1"
      ]
     },
     "execution_count": 4,
     "metadata": {},
     "output_type": "execute_result"
    }
   ],
   "source": [
    "\n",
    "## Features can be bigrams as well\n",
    "cv1=text.CountVectorizer(input=corpus,ngram_range=(2,2))\n",
    "matrix1=cv1.fit_transform(corpus)\n",
    "cv1.get_feature_names()\n",
    "pd.DataFrame(matrix1.toarray(),columns=cv1.get_feature_names())\n"
   ]
  },
  {
   "cell_type": "code",
   "execution_count": 5,
   "metadata": {},
   "outputs": [
    {
     "data": {
      "text/html": [
       "<div>\n",
       "<style scoped>\n",
       "    .dataframe tbody tr th:only-of-type {\n",
       "        vertical-align: middle;\n",
       "    }\n",
       "\n",
       "    .dataframe tbody tr th {\n",
       "        vertical-align: top;\n",
       "    }\n",
       "\n",
       "    .dataframe thead th {\n",
       "        text-align: right;\n",
       "    }\n",
       "</style>\n",
       "<table border=\"1\" class=\"dataframe\">\n",
       "  <thead>\n",
       "    <tr style=\"text-align: right;\">\n",
       "      <th></th>\n",
       "      <th>is</th>\n",
       "      <th>is sentence</th>\n",
       "      <th>is sentence one</th>\n",
       "      <th>is sentence three</th>\n",
       "      <th>is sentence two</th>\n",
       "      <th>one</th>\n",
       "      <th>sentence</th>\n",
       "      <th>sentence one</th>\n",
       "      <th>sentence three</th>\n",
       "      <th>sentence two</th>\n",
       "      <th>this</th>\n",
       "      <th>this is</th>\n",
       "      <th>this is sentence</th>\n",
       "      <th>three</th>\n",
       "      <th>two</th>\n",
       "    </tr>\n",
       "  </thead>\n",
       "  <tbody>\n",
       "    <tr>\n",
       "      <th>0</th>\n",
       "      <td>1</td>\n",
       "      <td>1</td>\n",
       "      <td>1</td>\n",
       "      <td>0</td>\n",
       "      <td>0</td>\n",
       "      <td>1</td>\n",
       "      <td>1</td>\n",
       "      <td>1</td>\n",
       "      <td>0</td>\n",
       "      <td>0</td>\n",
       "      <td>1</td>\n",
       "      <td>1</td>\n",
       "      <td>1</td>\n",
       "      <td>0</td>\n",
       "      <td>0</td>\n",
       "    </tr>\n",
       "    <tr>\n",
       "      <th>1</th>\n",
       "      <td>1</td>\n",
       "      <td>1</td>\n",
       "      <td>0</td>\n",
       "      <td>0</td>\n",
       "      <td>1</td>\n",
       "      <td>0</td>\n",
       "      <td>1</td>\n",
       "      <td>0</td>\n",
       "      <td>0</td>\n",
       "      <td>1</td>\n",
       "      <td>1</td>\n",
       "      <td>1</td>\n",
       "      <td>1</td>\n",
       "      <td>0</td>\n",
       "      <td>1</td>\n",
       "    </tr>\n",
       "    <tr>\n",
       "      <th>2</th>\n",
       "      <td>1</td>\n",
       "      <td>1</td>\n",
       "      <td>0</td>\n",
       "      <td>1</td>\n",
       "      <td>0</td>\n",
       "      <td>0</td>\n",
       "      <td>1</td>\n",
       "      <td>0</td>\n",
       "      <td>1</td>\n",
       "      <td>0</td>\n",
       "      <td>1</td>\n",
       "      <td>1</td>\n",
       "      <td>1</td>\n",
       "      <td>1</td>\n",
       "      <td>0</td>\n",
       "    </tr>\n",
       "  </tbody>\n",
       "</table>\n",
       "</div>"
      ],
      "text/plain": [
       "   is  is sentence  is sentence one  is sentence three  is sentence two  one  \\\n",
       "0   1            1                1                  0                0    1   \n",
       "1   1            1                0                  0                1    0   \n",
       "2   1            1                0                  1                0    0   \n",
       "\n",
       "   sentence  sentence one  sentence three  sentence two  this  this is  \\\n",
       "0         1             1               0             0     1        1   \n",
       "1         1             0               0             1     1        1   \n",
       "2         1             0               1             0     1        1   \n",
       "\n",
       "   this is sentence  three  two  \n",
       "0                 1      0    0  \n",
       "1                 1      0    1  \n",
       "2                 1      1    0  "
      ]
     },
     "execution_count": 5,
     "metadata": {},
     "output_type": "execute_result"
    }
   ],
   "source": [
    "## Similarly you can have bigram, tri-gram features. You can also\n",
    "cv2=text.CountVectorizer(input=corpus,ngram_range=(1,3))\n",
    "matrix2=cv2.fit_transform(corpus)\n",
    "cv2.get_feature_names()\n",
    "pd.DataFrame(matrix2.toarray(),columns=cv2.get_feature_names())"
   ]
  },
  {
   "cell_type": "code",
   "execution_count": null,
   "metadata": {
    "collapsed": true
   },
   "outputs": [],
   "source": []
  },
  {
   "cell_type": "code",
   "execution_count": 6,
   "metadata": {},
   "outputs": [
    {
     "data": {
      "text/html": [
       "<div>\n",
       "<style scoped>\n",
       "    .dataframe tbody tr th:only-of-type {\n",
       "        vertical-align: middle;\n",
       "    }\n",
       "\n",
       "    .dataframe tbody tr th {\n",
       "        vertical-align: top;\n",
       "    }\n",
       "\n",
       "    .dataframe thead th {\n",
       "        text-align: right;\n",
       "    }\n",
       "</style>\n",
       "<table border=\"1\" class=\"dataframe\">\n",
       "  <thead>\n",
       "    <tr style=\"text-align: right;\">\n",
       "      <th></th>\n",
       "      <th>sentence</th>\n",
       "    </tr>\n",
       "  </thead>\n",
       "  <tbody>\n",
       "    <tr>\n",
       "      <th>0</th>\n",
       "      <td>1</td>\n",
       "    </tr>\n",
       "    <tr>\n",
       "      <th>1</th>\n",
       "      <td>1</td>\n",
       "    </tr>\n",
       "    <tr>\n",
       "      <th>2</th>\n",
       "      <td>1</td>\n",
       "    </tr>\n",
       "  </tbody>\n",
       "</table>\n",
       "</div>"
      ],
      "text/plain": [
       "   sentence\n",
       "0         1\n",
       "1         1\n",
       "2         1"
      ]
     },
     "execution_count": 6,
     "metadata": {},
     "output_type": "execute_result"
    }
   ],
   "source": [
    "## While creating vector representaton one can get rid of commonly used english words\n",
    "\n",
    "cv3=text.CountVectorizer(input=corpus,ngram_range=(1,3),stop_words='english')\n",
    "matrix4=cv3.fit_transform(corpus)\n",
    "pd.DataFrame(matrix4.toarray(),columns=cv3.get_feature_names())\n",
    "## you can see common words like 'this','is' etc have been omitted while creating a vector representation\n"
   ]
  },
  {
   "cell_type": "code",
   "execution_count": null,
   "metadata": {
    "collapsed": true
   },
   "outputs": [],
   "source": [
    "corpus=['This is sentence one','This is sentence two','This is sentence three']\n",
    "from sklearn.feature_extraction import text\n",
    "cv=text.CountVectorizer(input=corpus)\n",
    "matrix=cv.fit_transform(corpus)"
   ]
  },
  {
   "cell_type": "code",
   "execution_count": 7,
   "metadata": {},
   "outputs": [
    {
     "data": {
      "text/html": [
       "<div>\n",
       "<style scoped>\n",
       "    .dataframe tbody tr th:only-of-type {\n",
       "        vertical-align: middle;\n",
       "    }\n",
       "\n",
       "    .dataframe tbody tr th {\n",
       "        vertical-align: top;\n",
       "    }\n",
       "\n",
       "    .dataframe thead th {\n",
       "        text-align: right;\n",
       "    }\n",
       "</style>\n",
       "<table border=\"1\" class=\"dataframe\">\n",
       "  <thead>\n",
       "    <tr style=\"text-align: right;\">\n",
       "      <th></th>\n",
       "      <th>is</th>\n",
       "      <th>one</th>\n",
       "      <th>sentence</th>\n",
       "      <th>this</th>\n",
       "      <th>three</th>\n",
       "      <th>two</th>\n",
       "    </tr>\n",
       "  </thead>\n",
       "  <tbody>\n",
       "    <tr>\n",
       "      <th>0</th>\n",
       "      <td>1</td>\n",
       "      <td>0</td>\n",
       "      <td>1</td>\n",
       "      <td>1</td>\n",
       "      <td>0</td>\n",
       "      <td>0</td>\n",
       "    </tr>\n",
       "    <tr>\n",
       "      <th>1</th>\n",
       "      <td>1</td>\n",
       "      <td>0</td>\n",
       "      <td>1</td>\n",
       "      <td>1</td>\n",
       "      <td>0</td>\n",
       "      <td>0</td>\n",
       "    </tr>\n",
       "  </tbody>\n",
       "</table>\n",
       "</div>"
      ],
      "text/plain": [
       "   is  one  sentence  this  three  two\n",
       "0   1    0         1     1      0    0\n",
       "1   1    0         1     1      0    0"
      ]
     },
     "execution_count": 7,
     "metadata": {},
     "output_type": "execute_result"
    }
   ],
   "source": [
    "## Suppose you wanted to extract unigram features from a related corpus,\n",
    "\n",
    "corpus1=[\"This is sentence four\",\"This is sentence five\"]\n",
    "matrix3=cv.transform(corpus1)\n",
    "pd.DataFrame(matrix3.toarray(),columns=cv.get_feature_names())\n",
    "\n",
    "\n",
    "## Notice how the previous vocabulary is being used\n",
    "\n",
    "\n"
   ]
  },
  {
   "cell_type": "code",
   "execution_count": 8,
   "metadata": {},
   "outputs": [
    {
     "data": {
      "text/html": [
       "<div>\n",
       "<style scoped>\n",
       "    .dataframe tbody tr th:only-of-type {\n",
       "        vertical-align: middle;\n",
       "    }\n",
       "\n",
       "    .dataframe tbody tr th {\n",
       "        vertical-align: top;\n",
       "    }\n",
       "\n",
       "    .dataframe thead th {\n",
       "        text-align: right;\n",
       "    }\n",
       "</style>\n",
       "<table border=\"1\" class=\"dataframe\">\n",
       "  <thead>\n",
       "    <tr style=\"text-align: right;\">\n",
       "      <th></th>\n",
       "      <th>is</th>\n",
       "      <th>is sentence</th>\n",
       "      <th>one</th>\n",
       "      <th>sentence</th>\n",
       "      <th>sentence one</th>\n",
       "      <th>sentence three</th>\n",
       "      <th>sentence two</th>\n",
       "      <th>this</th>\n",
       "      <th>this is</th>\n",
       "      <th>three</th>\n",
       "      <th>two</th>\n",
       "    </tr>\n",
       "  </thead>\n",
       "  <tbody>\n",
       "    <tr>\n",
       "      <th>0</th>\n",
       "      <td>0.305232</td>\n",
       "      <td>0.305232</td>\n",
       "      <td>0.516802</td>\n",
       "      <td>0.305232</td>\n",
       "      <td>0.516802</td>\n",
       "      <td>0.000000</td>\n",
       "      <td>0.000000</td>\n",
       "      <td>0.305232</td>\n",
       "      <td>0.305232</td>\n",
       "      <td>0.000000</td>\n",
       "      <td>0.000000</td>\n",
       "    </tr>\n",
       "    <tr>\n",
       "      <th>1</th>\n",
       "      <td>0.305232</td>\n",
       "      <td>0.305232</td>\n",
       "      <td>0.000000</td>\n",
       "      <td>0.305232</td>\n",
       "      <td>0.000000</td>\n",
       "      <td>0.000000</td>\n",
       "      <td>0.516802</td>\n",
       "      <td>0.305232</td>\n",
       "      <td>0.305232</td>\n",
       "      <td>0.000000</td>\n",
       "      <td>0.516802</td>\n",
       "    </tr>\n",
       "    <tr>\n",
       "      <th>2</th>\n",
       "      <td>0.305232</td>\n",
       "      <td>0.305232</td>\n",
       "      <td>0.000000</td>\n",
       "      <td>0.305232</td>\n",
       "      <td>0.000000</td>\n",
       "      <td>0.516802</td>\n",
       "      <td>0.000000</td>\n",
       "      <td>0.305232</td>\n",
       "      <td>0.305232</td>\n",
       "      <td>0.516802</td>\n",
       "      <td>0.000000</td>\n",
       "    </tr>\n",
       "  </tbody>\n",
       "</table>\n",
       "</div>"
      ],
      "text/plain": [
       "         is  is sentence       one  sentence  sentence one  sentence three  \\\n",
       "0  0.305232     0.305232  0.516802  0.305232      0.516802        0.000000   \n",
       "1  0.305232     0.305232  0.000000  0.305232      0.000000        0.000000   \n",
       "2  0.305232     0.305232  0.000000  0.305232      0.000000        0.516802   \n",
       "\n",
       "   sentence two      this   this is     three       two  \n",
       "0      0.000000  0.305232  0.305232  0.000000  0.000000  \n",
       "1      0.516802  0.305232  0.305232  0.000000  0.516802  \n",
       "2      0.000000  0.305232  0.305232  0.516802  0.000000  "
      ]
     },
     "execution_count": 8,
     "metadata": {},
     "output_type": "execute_result"
    }
   ],
   "source": [
    "\n",
    "## Tfidf\n",
    "\n",
    "corpus=['This is sentence one','This is sentence two','This is sentence three']\n",
    "from sklearn.feature_extraction import text\n",
    "\n",
    "\n",
    "tf=text.TfidfVectorizer(input=corpus,ngram_range=(1,2))\n",
    "matrix5=tf.fit_transform(corpus)\n",
    "pd.DataFrame(matrix5.toarray(),columns=tf.get_feature_names())\n",
    "\n"
   ]
  },
  {
   "cell_type": "code",
   "execution_count": null,
   "metadata": {
    "collapsed": true
   },
   "outputs": [],
   "source": []
  },
  {
   "cell_type": "code",
   "execution_count": 9,
   "metadata": {},
   "outputs": [
    {
     "data": {
      "text/plain": [
       "array([[1.        , 0.09175104, 0.59131805, 0.        ],\n",
       "       [0.09175104, 1.        , 0.09175104, 0.12034439],\n",
       "       [0.59131805, 0.09175104, 1.        , 0.        ],\n",
       "       [0.        , 0.12034439, 0.        , 1.        ]])"
      ]
     },
     "execution_count": 9,
     "metadata": {},
     "output_type": "execute_result"
    }
   ],
   "source": [
    "\n",
    "## Cosine similarity\n",
    "\n",
    "corpus2=['This is sentence one','Trump is a Republican','This is sentence three','Trump will win elections']\n",
    "tf=text.TfidfVectorizer(corpus2,ngram_range=(1,2))\n",
    "matrix6=tf.fit_transform(corpus2)\n",
    "from sklearn.metrics.pairwise import cosine_similarity\n",
    "cosine_similarity(matrix6)\n"
   ]
  },
  {
   "cell_type": "code",
   "execution_count": null,
   "metadata": {
    "collapsed": true
   },
   "outputs": [],
   "source": [
    "\n",
    "## you can see sentence one and three are most similar and sentence 2 and 4 are most similar, vector representation, even very basic ones like tfidf can help us compute text similarity. \n"
   ]
  },
  {
   "cell_type": "code",
   "execution_count": null,
   "metadata": {
    "collapsed": true
   },
   "outputs": [],
   "source": []
  },
  {
   "cell_type": "code",
   "execution_count": null,
   "metadata": {
    "collapsed": true
   },
   "outputs": [],
   "source": []
  }
 ],
 "metadata": {
  "kernelspec": {
   "display_name": "Python 3",
   "language": "python",
   "name": "python3"
  },
  "language_info": {
   "codemirror_mode": {
    "name": "ipython",
    "version": 3
   },
   "file_extension": ".py",
   "mimetype": "text/x-python",
   "name": "python",
   "nbconvert_exporter": "python",
   "pygments_lexer": "ipython3",
   "version": "3.6.4"
  }
 },
 "nbformat": 4,
 "nbformat_minor": 2
}
